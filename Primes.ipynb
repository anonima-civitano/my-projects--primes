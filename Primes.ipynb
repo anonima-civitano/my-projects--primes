{
 "cells": [
  {
   "cell_type": "code",
   "execution_count": null,
   "id": "d179a351-e2ac-4280-bb43-a4fe6d19305b",
   "metadata": {},
   "outputs": [],
   "source": []
  },
  {
   "cell_type": "code",
   "execution_count": 1,
   "id": "ce95c65c-b6a5-4ce5-a593-b4134aca00e9",
   "metadata": {},
   "outputs": [],
   "source": [
    "import numpy as np\n",
    "import pandas as pd\n",
    "import matplotlib as mlt\n",
    "import matplotlib.pyplot as plt\n",
    "%matplotlib inline\n",
    "import seaborn as sns"
   ]
  },
  {
   "cell_type": "code",
   "execution_count": 2,
   "id": "7dd410ae-bcb5-4804-8293-ad73223c7197",
   "metadata": {},
   "outputs": [],
   "source": [
    "df_primes = pd.read_csv(\"primes.csv\")"
   ]
  },
  {
   "cell_type": "code",
   "execution_count": 5,
   "id": "3bfb9360-f77f-4dfc-8732-af13373fc59c",
   "metadata": {},
   "outputs": [
    {
     "data": {
      "text/plain": [
       "1    7.472959e+06\n",
       "dtype: float64"
      ]
     },
     "execution_count": 5,
     "metadata": {},
     "output_type": "execute_result"
    }
   ],
   "source": [
    "df_primes.mean()"
   ]
  },
  {
   "cell_type": "code",
   "execution_count": 6,
   "id": "f02417cf-82ae-42d7-a73a-25829c382dd2",
   "metadata": {},
   "outputs": [
    {
     "data": {
      "text/plain": [
       "1    7368787.0\n",
       "dtype: float64"
      ]
     },
     "execution_count": 6,
     "metadata": {},
     "output_type": "execute_result"
    }
   ],
   "source": [
    "df_primes.median()"
   ]
  },
  {
   "cell_type": "code",
   "execution_count": 7,
   "id": "09b687a2-5bbf-4f2b-b111-04d552ec1fef",
   "metadata": {},
   "outputs": [
    {
     "data": {
      "text/plain": [
       "(999999, 1)"
      ]
     },
     "execution_count": 7,
     "metadata": {},
     "output_type": "execute_result"
    }
   ],
   "source": [
    "df_primes.shape"
   ]
  },
  {
   "cell_type": "code",
   "execution_count": null,
   "id": "b13ea773-cd3b-4c9d-9ad4-03341ba7884a",
   "metadata": {},
   "outputs": [],
   "source": []
  },
  {
   "cell_type": "code",
   "execution_count": null,
   "id": "19053f22-d10c-48d0-be64-118a0f9abc11",
   "metadata": {},
   "outputs": [],
   "source": []
  },
  {
   "cell_type": "code",
   "execution_count": null,
   "id": "bea47c3c-2638-41a4-a7c9-5fc72a905ab2",
   "metadata": {},
   "outputs": [],
   "source": []
  },
  {
   "cell_type": "code",
   "execution_count": null,
   "id": "0724a9ca-ccc5-445b-b614-05adde8df586",
   "metadata": {},
   "outputs": [],
   "source": []
  },
  {
   "cell_type": "code",
   "execution_count": null,
   "id": "5abb0e2b-fd56-4015-af29-61d67d8980e6",
   "metadata": {},
   "outputs": [],
   "source": []
  },
  {
   "cell_type": "code",
   "execution_count": null,
   "id": "f4354872-b0ae-4ac2-8242-9c712c2e99eb",
   "metadata": {},
   "outputs": [],
   "source": []
  },
  {
   "cell_type": "code",
   "execution_count": null,
   "id": "3746817b-373d-4b32-ba42-7c5257491e13",
   "metadata": {},
   "outputs": [],
   "source": []
  },
  {
   "cell_type": "code",
   "execution_count": null,
   "id": "b077fe8b-16ad-4be3-b51d-50deb780e272",
   "metadata": {},
   "outputs": [],
   "source": []
  },
  {
   "cell_type": "code",
   "execution_count": null,
   "id": "4fecb9ff-6939-4e79-90b1-8a4a46bd74df",
   "metadata": {},
   "outputs": [],
   "source": []
  },
  {
   "cell_type": "code",
   "execution_count": null,
   "id": "6a75d0fc-e4b1-4216-9791-3df486dbe6bd",
   "metadata": {},
   "outputs": [],
   "source": []
  },
  {
   "cell_type": "code",
   "execution_count": null,
   "id": "400c2ee6-39e6-4157-89db-b62b4fb76ac3",
   "metadata": {},
   "outputs": [],
   "source": []
  },
  {
   "cell_type": "code",
   "execution_count": null,
   "id": "45883714-aefc-4355-87b5-e2db50a26fd7",
   "metadata": {},
   "outputs": [],
   "source": []
  },
  {
   "cell_type": "code",
   "execution_count": null,
   "id": "75322383-9ffe-4e3a-9c01-acaa743213cb",
   "metadata": {},
   "outputs": [],
   "source": []
  },
  {
   "cell_type": "code",
   "execution_count": null,
   "id": "9e7188f4-64b9-4eab-b411-0a885df931ef",
   "metadata": {},
   "outputs": [],
   "source": []
  }
 ],
 "metadata": {
  "kernelspec": {
   "display_name": "Python 3 (ipykernel)",
   "language": "python",
   "name": "python3"
  },
  "language_info": {
   "codemirror_mode": {
    "name": "ipython",
    "version": 3
   },
   "file_extension": ".py",
   "mimetype": "text/x-python",
   "name": "python",
   "nbconvert_exporter": "python",
   "pygments_lexer": "ipython3",
   "version": "3.10.8"
  }
 },
 "nbformat": 4,
 "nbformat_minor": 5
}
